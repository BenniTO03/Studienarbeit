{
 "cells": [
  {
   "cell_type": "markdown",
   "metadata": {},
   "source": [
    "Karen Simonyan & Andrew Zisserman: very deep convolutional networks for large-scale image recognition\n",
    "neurohive.io/en/popular-networks/vgg16/"
   ]
  },
  {
   "cell_type": "code",
   "execution_count": 3,
   "metadata": {},
   "outputs": [],
   "source": [
    "from keras.models import Model\n",
    "from keras.layers import Input\n",
    "from keras.layers import Conv2D\n",
    "from keras.layers import MaxPooling2D, Flatten, Dense\n",
    "from keras.layers import concatenate\n",
    "from keras.utils import plot_model\n",
    "import cv2\n",
    "import keras\n",
    "import numpy as np\n",
    "import matplotlib.pyplot as plt\n",
    "import tensorflow as tf"
   ]
  },
  {
   "cell_type": "code",
   "execution_count": null,
   "metadata": {},
   "outputs": [],
   "source": []
  },
  {
   "cell_type": "code",
   "execution_count": null,
   "metadata": {},
   "outputs": [],
   "source": [
    "model = keras.Sequential()\n",
    "\n",
    "# Block1\n",
    "model.add(Conv2D(64, kernel_size=(3,3), padding='same', activation='relu', input_shape=(224,224,3)))\n",
    "model.add(Conv2D(64, kernel_size=(3,3), padding='same', activation='relu'))\n",
    "model.add(MaxPooling2D(2,2), strides=(2,2))\n",
    "\n",
    "# Block2\n",
    "model.add(Conv2D(128, kernel_size=(3,3), padding='same', activation='relu'))\n",
    "model.add(Conv2D(128, kernel_size=(3,3), padding='same', activation='relu'))\n",
    "model.add(MaxPooling2D(2,2), strides=(2,2))\n",
    "\n",
    "# Block3\n",
    "model.add(Conv2D(256, kernel_size=(3,3), padding='same', activation='relu'))\n",
    "model.add(Conv2D(256, kernel_size=(3,3), padding='same', activation='relu'))\n",
    "model.add(Conv2D(256, kernel_size=(3,3), padding='same', activation='relu'))\n",
    "model.add(MaxPooling2D(2,2), strides=(2,2))\n",
    "\n",
    "# Block4\n",
    "model.add(Conv2D(512, kernel_size=(3,3), padding='same', activation='relu'))\n",
    "model.add(Conv2D(512, kernel_size=(3,3), padding='same', activation='relu'))\n",
    "model.add(Conv2D(512, kernel_size=(3,3), padding='same', activation='relu'))\n",
    "model.add(MaxPooling2D(2,2), strides=(2,2))\n",
    "\n",
    "# Block5\n",
    "model.add(Conv2D(512, kernel_size=(3,3), padding='same', activation='relu'))\n",
    "model.add(Conv2D(512, kernel_size=(3,3), padding='same', activation='relu'))\n",
    "model.add(Conv2D(512, kernel_size=(3,3), padding='same', activation='relu'))\n",
    "model.add(MaxPooling2D(2,2), strides=(2,2))\n",
    "\n",
    "# Top\n",
    "model.add(Flatten())\n",
    "model.add(Dense(4096, activation='relu'))\n",
    "model.add(Dense(4096, activation='relu'))\n",
    "model.add(Dense(26, activation='softmax'))\n",
    "\n",
    "model.build()\n",
    "model.summary()"
   ]
  },
  {
   "cell_type": "code",
   "execution_count": null,
   "metadata": {},
   "outputs": [],
   "source": [
    "result = model.predict(np.array([img]))"
   ]
  },
  {
   "cell_type": "code",
   "execution_count": null,
   "metadata": {},
   "outputs": [],
   "source": [
    "for i in range(64):\n",
    "    feature_img = result[0, :, :, i]\n",
    "    ax = plt.subplot(8, 8, i+1)\n",
    "    ax.set_xticks([])\n",
    "    ax.set_yticks([])\n",
    "    plt.imshow(feature_img, cmap='gray')"
   ]
  }
 ],
 "metadata": {
  "kernelspec": {
   "display_name": "Python 3",
   "language": "python",
   "name": "python3"
  },
  "language_info": {
   "codemirror_mode": {
    "name": "ipython",
    "version": 3
   },
   "file_extension": ".py",
   "mimetype": "text/x-python",
   "name": "python",
   "nbconvert_exporter": "python",
   "pygments_lexer": "ipython3",
   "version": "3.11.1"
  }
 },
 "nbformat": 4,
 "nbformat_minor": 2
}
