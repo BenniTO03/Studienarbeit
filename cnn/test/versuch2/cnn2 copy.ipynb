{
 "cells": [
  {
   "cell_type": "code",
   "execution_count": 1,
   "metadata": {},
   "outputs": [],
   "source": [
    "#  article dependencies\n",
    "import torch\n",
    "import torch.nn as nn\n",
    "import torch.nn.functional as F\n",
    "import torchvision\n",
    "import torchvision.transforms as transforms\n",
    "#import torchvision.datasets as Datasets\n",
    "from torch.utils.data import Dataset, DataLoader\n",
    "import numpy as np\n",
    "import matplotlib.pyplot as plt\n",
    "#from tqdm.notebook import tqdm\n",
    "#from tqdm import tqdm as tqdm_regular\n",
    "import seaborn as sns\n",
    "from torchvision.utils import make_grid\n",
    "import random"
   ]
  },
  {
   "cell_type": "code",
   "execution_count": 2,
   "metadata": {},
   "outputs": [
    {
     "name": "stdout",
     "output_type": "stream",
     "text": [
      "Running on the CPU\n"
     ]
    }
   ],
   "source": [
    "#  setting up device\n",
    "if torch.cuda.is_available():\n",
    "  device = torch.device('cuda:0')\n",
    "  print('Running on the GPU')\n",
    "else:\n",
    "  device = torch.device('cpu')\n",
    "  print('Running on the CPU')"
   ]
  },
  {
   "cell_type": "code",
   "execution_count": 10,
   "metadata": {},
   "outputs": [],
   "source": [
    "import os\n",
    "import cv2\n",
    "from natsort import natsorted\n",
    "\n",
    "class Data():\n",
    "\n",
    "    def __init__(self):\n",
    "        pass\n",
    "\n",
    "    def get_images(images_path):\n",
    "    # speichert Bilder als numpy array\n",
    "\n",
    "        array_images = []\n",
    "        train_or_test_folder = os.listdir(images_path)\n",
    "\n",
    "        for folder in natsorted(train_or_test_folder):\n",
    "            single_folder = os.path.join(images_path, folder)\n",
    "\n",
    "            for file in os.listdir(single_folder):\n",
    "                filepath = os.path.join(single_folder, file)\n",
    "\n",
    "                if filepath.lower().endswith(('.jpeg', '.jpg')):\n",
    "                    image = cv2.resize(cv2.imread(filepath), (64, 64))  # resize Größe bestimmt durch vortainiertes Netz\n",
    "                    array_images.append(image)\n",
    "\n",
    "        images = np.array(array_images)\n",
    "        \n",
    "        return images\n",
    "    \n",
    "    def get_label(images_path):\n",
    "    # speichert Lables als numpy array\n",
    "\n",
    "        array_label = []\n",
    "        for folder in natsorted(os.listdir(images_path)):\n",
    "            label = int(folder)\n",
    "\n",
    "            for file in os.listdir(os.path.join(images_path, folder)):\n",
    "                array_label.append(label)\n",
    "        labels = np.array(array_label)\n",
    "            \n",
    "        return labels\n",
    "    \n",
    "images = Data.get_images(\"../../02_data_crop/train\")\n",
    "labels = Data.get_label(\"../../02_data_crop/train\") # train images\n",
    "\n",
    "X_eval = Data.get_images(\"../../02_data_crop/test\")\n",
    "y_eval = Data.get_label(\"../../02_data_crop/test\")  # Evaluierungs Bilder"
   ]
  },
  {
   "cell_type": "code",
   "execution_count": 11,
   "metadata": {},
   "outputs": [
    {
     "name": "stdout",
     "output_type": "stream",
     "text": [
      "Anzahl eindeutiger Klassen: 26\n",
      "Anzahl                Wert\n",
      "------------------  ------\n",
      "Klassen:                26\n",
      "Trainingsbilder       8294\n",
      "Testbilder            2074\n",
      "Evaluierungsbilder    1448\n"
     ]
    }
   ],
   "source": [
    "from sklearn.model_selection import train_test_split\n",
    "from tabulate import tabulate\n",
    "\n",
    "uniq_labels = natsorted(os.listdir(\"../../02_data_crop/train\"))\n",
    "print(\"Anzahl eindeutiger Klassen: {}\".format(len(uniq_labels)))\n",
    "\n",
    "# Trainingsbilder, Testbilder, Trainingslabels, Testlabels\n",
    "X_train, X_test, y_train, y_test = train_test_split(images, labels, test_size = 0.2, stratify = labels)\n",
    "# von jeder Klasse Daten\n",
    "\n",
    "n = len(uniq_labels)   # Anzahl eindeutiger Klassen\n",
    "train_n = len(X_train) # Anzahl Trainingsdaten\n",
    "test_n = len(X_test)   # Anzahl Testdaten\n",
    "eval_n = len(X_eval)\n",
    "\n",
    "tab = [['Klassen:',n],\n",
    "       ['Trainingsbilder', train_n],['Testbilder', test_n],['Evaluierungsbilder', eval_n]]\n",
    "\n",
    "print(tabulate(tab, headers=[\"Anzahl\", \"Wert\"]))"
   ]
  },
  {
   "cell_type": "code",
   "execution_count": 5,
   "metadata": {},
   "outputs": [],
   "source": [
    "import keras\n",
    "# one hot encoding der Labels\n",
    "# Binarisierung, entsprechende Klasse mit 1 gekennzeichnet\n",
    "#y_train = keras.utils.to_categorical(y_train)\n",
    "#y_test = keras.utils.to_categorical(y_test)\n",
    "#y_eval = keras.utils.to_categorical(y_eval)"
   ]
  },
  {
   "cell_type": "code",
   "execution_count": 12,
   "metadata": {},
   "outputs": [],
   "source": [
    "import torch\n",
    "from torch.utils.data import Dataset\n",
    "\n",
    "class PyTorchDataset(Dataset):\n",
    "    def __init__(self, images, labels, transform=None):\n",
    "        self.images = images\n",
    "        self.labels = labels\n",
    "        self.transform = transform\n",
    "\n",
    "    def __len__(self):\n",
    "        return len(self.images)\n",
    "\n",
    "    def __getitem__(self, idx):\n",
    "        image = self.images[idx]\n",
    "        label = self.labels[idx]\n",
    "\n",
    "        if self.transform:\n",
    "            image = self.transform(image)\n",
    "\n",
    "        return image, label\n",
    "\n",
    "\n",
    "# Erstellen des CustomDataset\n",
    "training_dataset = PyTorchDataset(images=X_train, labels=y_train, transform=transforms.Compose([transforms.ToTensor(),\n",
    "                                                                                 transforms.Normalize((0.5, 0.5, 0.5), (0.5, 0.5, 0.5))]))\n",
    "test_dataset = PyTorchDataset(images=X_test, labels=y_test, transform=transforms.Compose([transforms.ToTensor(),\n",
    "                                                                                 transforms.Normalize((0.5, 0.5, 0.5), (0.5, 0.5, 0.5))]))\n",
    "eval_dataset = PyTorchDataset(images=X_eval, labels=y_eval, transform=transforms.Compose([transforms.ToTensor(),\n",
    "                                                                                 transforms.Normalize((0.5, 0.5, 0.5), (0.5, 0.5, 0.5))]))"
   ]
  },
  {
   "cell_type": "code",
   "execution_count": 13,
   "metadata": {},
   "outputs": [
    {
     "name": "stdout",
     "output_type": "stream",
     "text": [
      "Kenngröße            Wert\n",
      "-------------------  -------------------------------------------------------------\n",
      "Trainingsbilder:     8294\n",
      "Testbilder:          2074\n",
      "Evaluierungsbilder:  1448\n",
      "Shape:               torch.Size([64, 64, 3])\n",
      "Type:                <built-in method type of Tensor object at 0x00000211D24D7A70>\n"
     ]
    }
   ],
   "source": [
    "num_training = len(training_dataset)\n",
    "num_test = len(test_dataset) \n",
    "num_eval = len(eval_dataset)   \n",
    "image_train, label_train = training_dataset[1]\n",
    "shape = image_train.shape\n",
    "type = image_train.type\n",
    "\n",
    "tab = [['Trainingsbilder: ', num_training],['Testbilder: ', num_test],['Evaluierungsbilder: ', num_eval],\n",
    "       ['Shape: ', shape], ['Type: ', type]]\n",
    "\n",
    "print(tabulate(tab, headers=[\"Kenngröße\", \"Wert\"]))"
   ]
  },
  {
   "cell_type": "code",
   "execution_count": 14,
   "metadata": {},
   "outputs": [
    {
     "name": "stderr",
     "output_type": "stream",
     "text": [
      "Clipping input data to the valid range for imshow with RGB data ([0..1] for floats or [0..255] for integers).\n"
     ]
    },
    {
     "data": {
      "image/png": "[encoded data removed]",
      "text/plain": [
       "<Figure size 640x480 with 1 Axes>"
      ]
     },
     "metadata": {},
     "output_type": "display_data"
    }
   ],
   "source": [
    "# Anzeigen des Bildes\n",
    "plt.imshow(image_train)\n",
    "plt.title(f\"Label: {label_train}\")\n",
    "plt.show()"
   ]
  },
  {
   "cell_type": "code",
   "execution_count": 22,
   "metadata": {},
   "outputs": [
    {
     "name": "stdout",
     "output_type": "stream",
     "text": [
      "Kenngröße               Wert\n",
      "----------------------  -------\n",
      "Label:                  15\n",
      "labels.shape:           (8294,)\n",
      "len(lables):            8294\n",
      "classifications.shape:  (8294,)\n",
      "\n",
      "model accuracy: \n",
      "\n",
      "Kenngröße               Wert\n",
      "----------------------  -------\n",
      "Label:                  1\n",
      "labels.shape:           (1448,)\n",
      "len(lables):            1448\n",
      "classifications.shape:  (1448,)\n",
      "\n",
      "model accuracy: \n",
      "\n"
     ]
    },
    {
     "data": {
      "text/plain": [
       "0.074"
      ]
     },
     "execution_count": 22,
     "metadata": {},
     "output_type": "execute_result"
    }
   ],
   "source": [
    "#  creating a mock model\n",
    "def mock_model(image_instance, batch_mode=False):\n",
    "  \"\"\"\n",
    "  Diese Funktion erstellt ein Mock-Modell,\n",
    "  bei dem alle Bilder als ein Label definiert wird.\n",
    "  Damit wird eine accuracy erstellt, die so groß ist, \n",
    "  wie der Anteil der Bilder des gewählten Labels\n",
    "  \"\"\"\n",
    "  if not batch_mode:\n",
    "    classification = 0\n",
    "    label = image_instance[1].item()\n",
    "    print(f'model classification = {classification}\\ntrue label = {label}')\n",
    "\n",
    "  else:\n",
    "    #  extracting true labels\n",
    "    labels = [label for _, label in image_instance]\n",
    "    labels = np.array(labels)\n",
    "\n",
    "    #  classifying all instances as one class\n",
    "    classifications = [1]*(len(image_instance))\n",
    "    classifications = np.array(classifications)\n",
    "\n",
    "    a = labels[0]\n",
    "    b = labels.shape\n",
    "    c = classifications.shape\n",
    "    d = len(labels)\n",
    "\n",
    "    tab = [['Label: ', a],['labels.shape: ', b], ['len(lables):', d], ['classifications.shape: ', c], ['', '']]\n",
    "\n",
    "    print(tabulate(tab, headers=[\"Kenngröße\", \"Wert\"]))\n",
    "\n",
    "    #  computing accuracy\n",
    "    accuracy = (sum(labels==classifications)/len(labels))\n",
    "    print('model accuracy:', '\\n')\n",
    "    return round(accuracy, 3)\n",
    "    \n",
    "\n",
    "#  testing model in batch mode\n",
    "mock_model(training_dataset, batch_mode=True)\n",
    "\n",
    "     \n",
    "#  testing model in batch mode\n",
    "mock_model(eval_dataset, batch_mode=True)"
   ]
  }
 ],
 "metadata": {
  "kernelspec": {
   "display_name": "Python 3",
   "language": "python",
   "name": "python3"
  },
  "language_info": {
   "codemirror_mode": {
    "name": "ipython",
    "version": 3
   },
   "file_extension": ".py",
   "mimetype": "text/x-python",
   "name": "python",
   "nbconvert_exporter": "python",
   "pygments_lexer": "ipython3",
   "version": "3.11.1"
  }
 },
 "nbformat": 4,
 "nbformat_minor": 2
}
