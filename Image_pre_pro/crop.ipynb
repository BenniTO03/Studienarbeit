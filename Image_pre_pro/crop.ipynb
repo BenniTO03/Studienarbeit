{
 "cells": [
  {
   "cell_type": "code",
   "execution_count": 2,
   "metadata": {},
   "outputs": [],
   "source": [
    "from cvzone.HandTrackingModule import HandDetector\n",
    "import mediapipe as mp\n",
    "import numpy as np\n",
    "import math\n",
    "import cv2\n",
    "import time\n",
    "import matplotlib.pyplot as plt \n",
    "import os"
   ]
  },
  {
   "cell_type": "markdown",
   "metadata": {},
   "source": [
    "## mp_hands\n",
    "kein Rahmen, deswegen verworfen"
   ]
  },
  {
   "cell_type": "code",
   "execution_count": 6,
   "metadata": {},
   "outputs": [
    {
     "data": {
      "text/plain": [
       "True"
      ]
     },
     "execution_count": 6,
     "metadata": {},
     "output_type": "execute_result"
    }
   ],
   "source": [
    "import os\n",
    "import pickle\n",
    "\n",
    "import mediapipe as mp\n",
    "import cv2\n",
    "import matplotlib.pyplot as plt\n",
    "\n",
    "\n",
    "mp_hands = mp.solutions.hands\n",
    "mp_drawing = mp.solutions.drawing_utils\n",
    "mp_drawing_styles = mp.solutions.drawing_styles\n",
    "\n",
    "hands = mp_hands.Hands(static_image_mode=True, min_detection_confidence=0.3)\n",
    "\n",
    "img = cv2.imread('data/A/a00001.jpg')\n",
    "img_rgb = cv2.cvtColor(img, cv2.COLOR_BGR2RGB)\n",
    "\n",
    "results = hands.process(img_rgb)\n",
    "if results.multi_hand_landmarks:\n",
    "    for hand_landmarks in results.multi_hand_landmarks:\n",
    "        mp_drawing.draw_landmarks(\n",
    "                    img_rgb,\n",
    "                    hand_landmarks,\n",
    "                    mp_hands.HAND_CONNECTIONS,\n",
    "                    mp_drawing_styles.get_default_hand_landmarks_style(),\n",
    "                    mp_drawing_styles.get_default_hand_connections_style()\n",
    "                )\n",
    "filename = 'results/mp_hands.jpg'\n",
    "img_result = cv2.cvtColor(img_rgb, cv2.COLOR_BGR2RGB)\n",
    "cv2.imwrite(filename, img_result) \n"
   ]
  },
  {
   "cell_type": "markdown",
   "metadata": {},
   "source": [
    "## HandDetector"
   ]
  },
  {
   "cell_type": "code",
   "execution_count": 4,
   "metadata": {},
   "outputs": [
    {
     "data": {
      "text/plain": [
       "True"
      ]
     },
     "execution_count": 4,
     "metadata": {},
     "output_type": "execute_result"
    }
   ],
   "source": [
    "# zeigt Detektion der Hand in einem Bild\n",
    "detector = HandDetector(maxHands=1)\n",
    "image = cv2.imread('data/train/B/B4_jpg.rf.b39ad92d94c21068eb73c14768c29eef.jpg')\n",
    "\n",
    "hands, img = detector.findHands(image)\n",
    "\n",
    "cv2.imshow('Image',img)\n",
    "cv2.waitKey(0)\n",
    "cv2.destroyAllWindows()\n",
    "\n"
   ]
  },
  {
   "cell_type": "code",
   "execution_count": 5,
   "metadata": {},
   "outputs": [
    {
     "name": "stdout",
     "output_type": "stream",
     "text": [
      "No hands found.\n",
      "No hands found.\n",
      "No hands found.\n",
      "No hands found.\n",
      "No hands found.\n",
      "No hands found.\n",
      "No hands found.\n",
      "No hands found.\n",
      "No hands found.\n",
      "No hands found.\n",
      "No hands found.\n",
      "No hands found.\n",
      "No hands found.\n",
      "No hands found.\n",
      "No hands found.\n",
      "No hands found.\n"
     ]
    }
   ],
   "source": [
    "def Crop_Images_Hands(folder):\n",
    "\n",
    "     files = os.listdir(folder)\n",
    "     zaehler = 1\n",
    "     imgSize = 300\n",
    "     offset = 20\n",
    "\n",
    "     try:\n",
    "         for file in files:\n",
    "\n",
    "               img_path = os.path.join(folder, file)\n",
    "\n",
    "               image = cv2.imread(img_path)\n",
    "\n",
    "               if image is None:\n",
    "                    print(\"Image is None\")\n",
    "                    continue\n",
    "               #img_rgb = cv2.cvtColor(image, cv2.COLOR_BGR2RGB)\n",
    "\n",
    "               detector = HandDetector(maxHands=1)\n",
    "\n",
    "               hands, img = detector.findHands(image)\n",
    "               if hands:\n",
    "                    # Detektion nur einer Hand\n",
    "                    hand = hands[0]\n",
    "                    x,y,w,h = hand['bbox']\n",
    "                    \n",
    "                    if y > offset and x > offset:\n",
    "                         offset = 20\n",
    "                         \n",
    "                    elif y < offset and x > offset:\n",
    "                         offset = y - 1\n",
    "\n",
    "                    elif y > offset and x < offset:\n",
    "                         offset = x - 1\n",
    "                    \n",
    "                    imgWhite = np.ones((imgSize,imgSize,3),np.uint8) * 255\n",
    "                    imgCrop = img[y - offset:y + h + offset, x - offset:x + w +offset]\n",
    "\n",
    "                    aspectRatio = h/w\n",
    "          \n",
    "                    # Höhe > Breite -> vertikales Bild\n",
    "                    if aspectRatio > 1:\n",
    "                         k = imgSize/h\n",
    "                         wCal = math.ceil(k * w)\n",
    "                         imgResize = cv2.resize(imgCrop,(wCal, imgSize))\n",
    "                         imgResizeShape = imgResize.shape\n",
    "                         wGap = math.ceil((imgSize-wCal) / 2)\n",
    "\n",
    "                         imgWhite[:, wGap:wCal+wGap] = imgResize\n",
    "               \n",
    "                    # horizontales Bild\n",
    "\n",
    "                    else:\n",
    "                         k = imgSize/w\n",
    "                         hCal = math.ceil(k * h)\n",
    "                         imgResize = cv2.resize(imgCrop,(imgSize,hCal))\n",
    "                         imgResizeShape = imgResize.shape\n",
    "                         hGap = math.ceil((imgSize-hCal) / 2)\n",
    "\n",
    "                         imgWhite[hGap:hCal+hGap:] = imgResize\n",
    "               \n",
    "                    os.remove(img_path)\n",
    "                    new_file_name = f'{str(zaehler).zfill(5)}.jpg'\n",
    "                    new_path = os.path.join(folder, new_file_name)\n",
    "\n",
    "                    cv2.imwrite(new_path, imgWhite)\n",
    "                    zaehler += 1\n",
    "\n",
    "               else:\n",
    "                    print(\"No hands found.\")\n",
    "\n",
    "     except Exception as e:\n",
    "          print(str(e))\n",
    "\n",
    "folder = 'data/train/D/'"
   ]
  }
 ],
 "metadata": {
  "kernelspec": {
   "display_name": "Python 3",
   "language": "python",
   "name": "python3"
  },
  "language_info": {
   "codemirror_mode": {
    "name": "ipython",
    "version": 3
   },
   "file_extension": ".py",
   "mimetype": "text/x-python",
   "name": "python",
   "nbconvert_exporter": "python",
   "pygments_lexer": "ipython3",
   "version": "3.11.1"
  }
 },
 "nbformat": 4,
 "nbformat_minor": 2
}
