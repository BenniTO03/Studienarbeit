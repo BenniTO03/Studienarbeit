{
 "cells": [
  {
   "cell_type": "code",
   "execution_count": 3,
   "metadata": {},
   "outputs": [],
   "source": [
    "import os\n",
    "from PIL import Image\n",
    "\n",
    "# Funktion zum Ändern der Bildgröße\n",
    "def resize_image(input_path, output_path):\n",
    "    with Image.open(input_path) as img:\n",
    "        img_resized = img.resize((300, 300))\n",
    "        img_resized.save(output_path)\n",
    "\n",
    "# Pfad zum Ordner mit den Bildern\n",
    "folder_path = '../asl_dataset/'\n",
    "\n",
    "# Durchsuche den Ordner und seine Unterordner nach Bildern\n",
    "for root, dirs, files in os.walk(folder_path):\n",
    "    for file in files:\n",
    "        if file.lower().endswith(('.jpg', '.jpeg')):\n",
    "            input_path = os.path.join(root, file)\n",
    "            output_path = os.path.join(root, f\"resized_{file}\")\n",
    "            resize_image(input_path, output_path)"
   ]
  },
  {
   "cell_type": "code",
   "execution_count": null,
   "metadata": {},
   "outputs": [],
   "source": [
    "import os\n",
    "\n",
    "# Pfad zum Ordner mit den Bildern\n",
    "folder_path = '../asl_dataset/'\n",
    "\n",
    "# Durchsuche den Ordner und seine Unterordner nach Bildern\n",
    "for root, dirs, files in os.walk(folder_path):\n",
    "    image_count = 0\n",
    "    for file in files:\n",
    "        if file.lower().endswith(('.jpg', '.jpeg')):\n",
    "            image_count += 1\n",
    "            if image_count <= 70:\n",
    "                file_path = os.path.join(root, file)\n",
    "                os.remove(file_path)"
   ]
  }
 ],
 "metadata": {
  "kernelspec": {
   "display_name": "Python 3",
   "language": "python",
   "name": "python3"
  },
  "language_info": {
   "codemirror_mode": {
    "name": "ipython",
    "version": 3
   },
   "file_extension": ".py",
   "mimetype": "text/x-python",
   "name": "python",
   "nbconvert_exporter": "python",
   "pygments_lexer": "ipython3",
   "version": "3.11.1"
  }
 },
 "nbformat": 4,
 "nbformat_minor": 2
}
