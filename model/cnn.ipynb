{
 "cells": [
  {
   "cell_type": "markdown",
   "metadata": {},
   "source": [
    "Test und Train Data "
   ]
  },
  {
   "cell_type": "code",
   "execution_count": 8,
   "metadata": {},
   "outputs": [
    {
     "name": "stdout",
     "output_type": "stream",
     "text": [
      "Trainingsdaten Shape: (7601, 300, 300, 3)\n",
      "Labels Shape: (7601,)\n"
     ]
    }
   ],
   "source": [
    "import os\n",
    "import cv2\n",
    "import numpy as np\n",
    "\n",
    "train_data_path = '../train/'\n",
    "\n",
    "train_data = []\n",
    "labels = []\n",
    "\n",
    "# Lade die Trainingsdaten und Labels aus den Unterordnern\n",
    "# Label = Name des Ordners\n",
    "for folder in os.listdir(train_data_path):\n",
    "    label = folder\n",
    "\n",
    "    #count = 0\n",
    "    for file in os.listdir(os.path.join(train_data_path, folder)):\n",
    "        img = cv2.imread(os.path.join(train_data_path, folder, file))\n",
    "        img = cv2.resize(img, (300, 300))  # Skaliere das Bild auf eine bestimmte Größe\n",
    "        train_data.append(img)\n",
    "        labels.append(label)\n",
    "        #count += 1\n",
    "        #if count == 10:\n",
    "        #    break\n",
    "\n",
    "#for i in range(10):\n",
    " #   cv2.imshow('Trainingsbild ' + str(i+1), train_data[i])\n",
    "  #  cv2.waitKey(0)\n",
    "   # cv2.destroyAllWindows()\n",
    "\n",
    "\n",
    "train_data = np.array(train_data)\n",
    "labels = np.array(labels)\n",
    "\n",
    "# Normalisiere die Trainingsdaten auf Werte zwischen 0 und 1\n",
    "train_data = train_data / 255.0\n",
    "\n",
    "# Gib die Form der Trainingsdaten aus\n",
    "print(\"Trainingsdaten Shape:\", train_data.shape)\n",
    "print(\"Labels Shape:\", labels.shape)\n"
   ]
  },
  {
   "cell_type": "code",
   "execution_count": 14,
   "metadata": {},
   "outputs": [
    {
     "name": "stdout",
     "output_type": "stream",
     "text": [
      "Trainingsdaten Shape: (61, 300, 300, 3)\n",
      "Labels Shape: (61,)\n"
     ]
    }
   ],
   "source": [
    "import os\n",
    "import cv2\n",
    "import numpy as np\n",
    "\n",
    "test_data_path = '../test/'\n",
    "\n",
    "test_data = []\n",
    "labels_test = []\n",
    "\n",
    "# Lade die Trainingsdaten und Labels aus den Unterordnern\n",
    "# Label = Name des Ordners\n",
    "for folder in os.listdir(test_data_path):\n",
    "    label_test = folder\n",
    "\n",
    "    #count = 0\n",
    "    for file in os.listdir(os.path.join(test_data_path, folder)):\n",
    "        img = cv2.imread(os.path.join(test_data_path, folder, file))\n",
    "        img = cv2.resize(img, (300, 300))  # Skaliere das Bild auf eine bestimmte Größe\n",
    "        test_data.append(img)\n",
    "        labels_test.append(label_test)\n",
    "        #count += 1\n",
    "        #if count == 10:\n",
    "        #    break\n",
    "\n",
    "#for i in range(10):\n",
    " #   cv2.imshow('Trainingsbild ' + str(i+1), train_data[i])\n",
    "  #  cv2.waitKey(0)\n",
    "   # cv2.destroyAllWindows()\n",
    "\n",
    "\n",
    "test_data = np.array(test_data)\n",
    "labels_test = np.array(labels_test)\n",
    "\n",
    "# Normalisiere die Trainingsdaten auf Werte zwischen 0 und 1\n",
    "test_data = test_data / 255.0\n",
    "\n",
    "# Gib die Form der Trainingsdaten aus\n",
    "print(\"Trainingsdaten Shape:\", test_data.shape)\n",
    "print(\"Labels Shape:\", labels_test.shape)\n"
   ]
  },
  {
   "cell_type": "code",
   "execution_count": 9,
   "metadata": {},
   "outputs": [],
   "source": [
    "import tensorflow as tf\n",
    "from tensorflow.keras import layers, models\n",
    "import matplotlib.pyplot as plt"
   ]
  },
  {
   "cell_type": "code",
   "execution_count": null,
   "metadata": {},
   "outputs": [],
   "source": [
    "X_train, y_train =\n",
    "X_test, y_test ="
   ]
  },
  {
   "cell_type": "markdown",
   "metadata": {},
   "source": [
    "Bilder laden"
   ]
  },
  {
   "cell_type": "code",
   "execution_count": 13,
   "metadata": {},
   "outputs": [
    {
     "data": {
      "text/plain": [
       "\"\\ntrain_data = tf.keras.preprocessing.image_dataset_from_directory(\\n    '../02_dattrain',\\n    image_size=(300, 300),\\n\\n)\\n\\ntest_data = tf.keras.preprocessing.image_dataset_from_directory(\\n    '../test',\\n    image_size=(300, 300),\\n    \\n)\\n\""
      ]
     },
     "execution_count": 13,
     "metadata": {},
     "output_type": "execute_result"
    }
   ],
   "source": [
    "\"\"\"\n",
    "train_data = tf.keras.preprocessing.image_dataset_from_directory(\n",
    "    '../02_dattrain',\n",
    "    image_size=(300, 300),\n",
    "\n",
    ")\n",
    "\n",
    "test_data = tf.keras.preprocessing.image_dataset_from_directory(\n",
    "    '../test',\n",
    "    image_size=(300, 300),\n",
    "    \n",
    ")\n",
    "\"\"\""
   ]
  },
  {
   "cell_type": "markdown",
   "metadata": {},
   "source": [
    "Model erstellen"
   ]
  },
  {
   "cell_type": "code",
   "execution_count": 10,
   "metadata": {},
   "outputs": [],
   "source": [
    "model = models.Sequential([\n",
    "    layers.Conv2D(32, (3, 3), activation='relu', input_shape=(300,300, 3)),\n",
    "    layers.MaxPooling2D((2, 2)),\n",
    "    layers.Conv2D(64, (3, 3), activation='relu'),\n",
    "    layers.MaxPooling2D((2, 2)),\n",
    "    layers.Flatten(),\n",
    "    layers.Dense(128, activation='relu'),\n",
    "    layers.Dense(10, activation='softmax')\n",
    "])\n"
   ]
  },
  {
   "cell_type": "code",
   "execution_count": 11,
   "metadata": {},
   "outputs": [
    {
     "name": "stdout",
     "output_type": "stream",
     "text": [
      "Model: \"sequential\"\n",
      "_________________________________________________________________\n",
      " Layer (type)                Output Shape              Param #   \n",
      "=================================================================\n",
      " conv2d (Conv2D)             (None, 298, 298, 32)      896       \n",
      "                                                                 \n",
      " max_pooling2d (MaxPooling2  (None, 149, 149, 32)      0         \n",
      " D)                                                              \n",
      "                                                                 \n",
      " conv2d_1 (Conv2D)           (None, 147, 147, 64)      18496     \n",
      "                                                                 \n",
      " max_pooling2d_1 (MaxPoolin  (None, 73, 73, 64)        0         \n",
      " g2D)                                                            \n",
      "                                                                 \n",
      " flatten (Flatten)           (None, 341056)            0         \n",
      "                                                                 \n",
      " dense (Dense)               (None, 128)               43655296  \n",
      "                                                                 \n",
      " dense_1 (Dense)             (None, 10)                1290      \n",
      "                                                                 \n",
      "=================================================================\n",
      "Total params: 43675978 (166.61 MB)\n",
      "Trainable params: 43675978 (166.61 MB)\n",
      "Non-trainable params: 0 (0.00 Byte)\n",
      "_________________________________________________________________\n"
     ]
    }
   ],
   "source": [
    "model.summary()"
   ]
  },
  {
   "cell_type": "markdown",
   "metadata": {},
   "source": [
    "Modell kompilieren"
   ]
  },
  {
   "cell_type": "code",
   "execution_count": 12,
   "metadata": {},
   "outputs": [],
   "source": [
    "model.compile(optimizer='adam',\n",
    "              loss='sparse_categorical_crossentropy',\n",
    "              metrics=['accuracy'])\n"
   ]
  },
  {
   "cell_type": "markdown",
   "metadata": {},
   "source": [
    "Modell trainieren"
   ]
  },
  {
   "cell_type": "code",
   "execution_count": 15,
   "metadata": {},
   "outputs": [
    {
     "ename": "ValueError",
     "evalue": "The truth value of an array with more than one element is ambiguous. Use a.any() or a.all()",
     "output_type": "error",
     "traceback": [
      "\u001b[1;31m---------------------------------------------------------------------------\u001b[0m",
      "\u001b[1;31mValueError\u001b[0m                                Traceback (most recent call last)",
      "Cell \u001b[1;32mIn[15], line 1\u001b[0m\n\u001b[1;32m----> 1\u001b[0m history \u001b[38;5;241m=\u001b[39m \u001b[43mmodel\u001b[49m\u001b[38;5;241;43m.\u001b[39;49m\u001b[43mfit\u001b[49m\u001b[43m(\u001b[49m\u001b[43mtrain_data\u001b[49m\u001b[43m,\u001b[49m\u001b[43m \u001b[49m\u001b[43mepochs\u001b[49m\u001b[38;5;241;43m=\u001b[39;49m\u001b[38;5;241;43m10\u001b[39;49m\u001b[43m,\u001b[49m\u001b[43m \u001b[49m\u001b[43mvalidation_data\u001b[49m\u001b[38;5;241;43m=\u001b[39;49m\u001b[43mtest_data\u001b[49m\u001b[43m)\u001b[49m\n",
      "File \u001b[1;32mc:\\Users\\KimJu\\AppData\\Local\\Programs\\Python\\Python311\\Lib\\site-packages\\keras\\src\\utils\\traceback_utils.py:70\u001b[0m, in \u001b[0;36mfilter_traceback.<locals>.error_handler\u001b[1;34m(*args, **kwargs)\u001b[0m\n\u001b[0;32m     67\u001b[0m     filtered_tb \u001b[38;5;241m=\u001b[39m _process_traceback_frames(e\u001b[38;5;241m.\u001b[39m__traceback__)\n\u001b[0;32m     68\u001b[0m     \u001b[38;5;66;03m# To get the full stack trace, call:\u001b[39;00m\n\u001b[0;32m     69\u001b[0m     \u001b[38;5;66;03m# `tf.debugging.disable_traceback_filtering()`\u001b[39;00m\n\u001b[1;32m---> 70\u001b[0m     \u001b[38;5;28;01mraise\u001b[39;00m e\u001b[38;5;241m.\u001b[39mwith_traceback(filtered_tb) \u001b[38;5;28;01mfrom\u001b[39;00m \u001b[38;5;28mNone\u001b[39m\n\u001b[0;32m     71\u001b[0m \u001b[38;5;28;01mfinally\u001b[39;00m:\n\u001b[0;32m     72\u001b[0m     \u001b[38;5;28;01mdel\u001b[39;00m filtered_tb\n",
      "File \u001b[1;32mc:\\Users\\KimJu\\AppData\\Local\\Programs\\Python\\Python311\\Lib\\site-packages\\keras\\src\\engine\\training.py:1703\u001b[0m, in \u001b[0;36mModel.fit\u001b[1;34m(self, x, y, batch_size, epochs, verbose, callbacks, validation_split, validation_data, shuffle, class_weight, sample_weight, initial_epoch, steps_per_epoch, validation_steps, validation_batch_size, validation_freq, max_queue_size, workers, use_multiprocessing)\u001b[0m\n\u001b[0;32m   1692\u001b[0m \u001b[38;5;28;01mif\u001b[39;00m validation_split \u001b[38;5;129;01mand\u001b[39;00m validation_data \u001b[38;5;129;01mis\u001b[39;00m \u001b[38;5;28;01mNone\u001b[39;00m:\n\u001b[0;32m   1693\u001b[0m     \u001b[38;5;66;03m# Create the validation data using the training data. Only supported\u001b[39;00m\n\u001b[0;32m   1694\u001b[0m     \u001b[38;5;66;03m# for `Tensor` and `NumPy` input.\u001b[39;00m\n\u001b[0;32m   1695\u001b[0m     (\n\u001b[0;32m   1696\u001b[0m         x,\n\u001b[0;32m   1697\u001b[0m         y,\n\u001b[1;32m   (...)\u001b[0m\n\u001b[0;32m   1700\u001b[0m         (x, y, sample_weight), validation_split\u001b[38;5;241m=\u001b[39mvalidation_split\n\u001b[0;32m   1701\u001b[0m     )\n\u001b[1;32m-> 1703\u001b[0m \u001b[38;5;28;01mif\u001b[39;00m validation_data:\n\u001b[0;32m   1704\u001b[0m     (\n\u001b[0;32m   1705\u001b[0m         val_x,\n\u001b[0;32m   1706\u001b[0m         val_y,\n\u001b[0;32m   1707\u001b[0m         val_sample_weight,\n\u001b[0;32m   1708\u001b[0m     ) \u001b[38;5;241m=\u001b[39m data_adapter\u001b[38;5;241m.\u001b[39munpack_x_y_sample_weight(validation_data)\n\u001b[0;32m   1710\u001b[0m \u001b[38;5;28;01mif\u001b[39;00m \u001b[38;5;28mself\u001b[39m\u001b[38;5;241m.\u001b[39mdistribute_strategy\u001b[38;5;241m.\u001b[39m_should_use_with_coordinator:\n",
      "\u001b[1;31mValueError\u001b[0m: The truth value of an array with more than one element is ambiguous. Use a.any() or a.all()"
     ]
    }
   ],
   "source": [
    "history = model.fit(train_data, epochs=10, validation_data=test_data)\n"
   ]
  },
  {
   "cell_type": "markdown",
   "metadata": {},
   "source": [
    "Modell evaluieren"
   ]
  },
  {
   "cell_type": "code",
   "execution_count": null,
   "metadata": {},
   "outputs": [],
   "source": [
    "plt.plot(history.history['accuracy'], label='accuracy')\n",
    "plt.plot(history.history['val_accuracy'], label = 'val_accuracy')\n",
    "plt.xlabel('Epoch')\n",
    "plt.ylabel('Accuracy')\n",
    "plt.ylim([0.5, 1])\n",
    "plt.legend(loc='lower right')\n",
    "\n",
    "test_loss, test_acc = model.evaluate(test_images,  test_labels, verbose=2)"
   ]
  }
 ],
 "metadata": {
  "kernelspec": {
   "display_name": "Python 3",
   "language": "python",
   "name": "python3"
  },
  "language_info": {
   "codemirror_mode": {
    "name": "ipython",
    "version": 3
   },
   "file_extension": ".py",
   "mimetype": "text/x-python",
   "name": "python",
   "nbconvert_exporter": "python",
   "pygments_lexer": "ipython3",
   "version": "3.11.1"
  }
 },
 "nbformat": 4,
 "nbformat_minor": 2
}
